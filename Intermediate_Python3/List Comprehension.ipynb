{
 "cells": [
  {
   "cell_type": "code",
   "execution_count": 1,
   "metadata": {},
   "outputs": [
    {
     "name": "stdout",
     "output_type": "stream",
     "text": [
      "[0, 1, 2, 3, 4]\n"
     ]
    }
   ],
   "source": [
    "xyz=[i for i in range(5)] # will create the list and store in the memory \n",
    "print(xyz)"
   ]
  },
  {
   "cell_type": "code",
   "execution_count": 2,
   "metadata": {},
   "outputs": [
    {
     "name": "stdout",
     "output_type": "stream",
     "text": [
      "<generator object <genexpr> at 0x7fe0283d9550>\n"
     ]
    }
   ],
   "source": [
    "xyz=(i for i in range(5)) # will create the <generator object <genexpr> at 0x7ff10049e4d0> not store in memory \n",
    "print(xyz)"
   ]
  },
  {
   "cell_type": "code",
   "execution_count": 3,
   "metadata": {},
   "outputs": [
    {
     "name": "stdout",
     "output_type": "stream",
     "text": [
      "0\n",
      "1\n",
      "2\n",
      "3\n",
      "4\n"
     ]
    }
   ],
   "source": [
    "for i in xyz:\n",
    "    print(i)"
   ]
  },
  {
   "cell_type": "code",
   "execution_count": 6,
   "metadata": {},
   "outputs": [
    {
     "name": "stdout",
     "output_type": "stream",
     "text": [
      "<generator object <genexpr> at 0x7fe0283d9450>\n"
     ]
    },
    {
     "data": {
      "text/plain": [
       "[5, 10, 15, 20, 45, 85]"
      ]
     },
     "execution_count": 6,
     "metadata": {},
     "output_type": "execute_result"
    }
   ],
   "source": [
    "input_list =[5,6,8,10,15,20,23,45,96,85]\n",
    "\n",
    "def div_by_five(num):\n",
    "    if num % 5==0:\n",
    "        return True\n",
    "    else:\n",
    "        return False\n",
    "    \n",
    "    \n",
    "xyz = (i for i in input_list if div_by_five(i))\n",
    "print(xyz)\n",
    "#xyz=[]\n",
    "#for i in input_list:\n",
    "#    if div_by_five(i):\n",
    "#        xyz.append(i)\n",
    "[i for i in xyz]"
   ]
  },
  {
   "cell_type": "code",
   "execution_count": 7,
   "metadata": {},
   "outputs": [],
   "source": [
    "for i in xyz:\n",
    "    print(i)"
   ]
  },
  {
   "cell_type": "code",
   "execution_count": 8,
   "metadata": {},
   "outputs": [
    {
     "data": {
      "text/plain": [
       "[]"
      ]
     },
     "execution_count": 8,
     "metadata": {},
     "output_type": "execute_result"
    }
   ],
   "source": [
    "[print(i) for i in xyz]"
   ]
  },
  {
   "cell_type": "code",
   "execution_count": 9,
   "metadata": {},
   "outputs": [
    {
     "name": "stdout",
     "output_type": "stream",
     "text": [
      "<generator object <genexpr> at 0x7fe0283d9950>\n"
     ]
    }
   ],
   "source": [
    "xyz = (i for i in input_list if div_by_five(i))\n",
    "print(xyz)"
   ]
  },
  {
   "cell_type": "code",
   "execution_count": 11,
   "metadata": {},
   "outputs": [
    {
     "name": "stdout",
     "output_type": "stream",
     "text": [
      "[5, 10, 15, 20, 45, 85]\n"
     ]
    },
    {
     "data": {
      "text/plain": [
       "[5, 10, 15, 20, 45, 85]"
      ]
     },
     "execution_count": 11,
     "metadata": {},
     "output_type": "execute_result"
    }
   ],
   "source": [
    "xyz = [i for i in input_list if div_by_five(i)]\n",
    "print(xyz)\n",
    "[i for i in xyz]"
   ]
  },
  {
   "cell_type": "code",
   "execution_count": null,
   "metadata": {},
   "outputs": [],
   "source": [
    "for i in range(5):\n",
    "    for ii in range(5):\n",
    "        print(i,ii)"
   ]
  },
  {
   "cell_type": "code",
   "execution_count": null,
   "metadata": {},
   "outputs": [],
   "source": [
    "[[print(i,ii) for ii in range(5)]for i in range(5)]"
   ]
  },
  {
   "cell_type": "code",
   "execution_count": null,
   "metadata": {},
   "outputs": [],
   "source": [
    "xyz=([[i,ii] for ii in range(5)]for i in range(5))\n",
    "print(xyz)\n",
    "#print([i for i in xyz])\n",
    "for i in xyz:\n",
    "    print(i)"
   ]
  },
  {
   "cell_type": "code",
   "execution_count": null,
   "metadata": {},
   "outputs": [],
   "source": [
    "xyz=([(i,ii) for ii in range(5)]for i in range(5))\n",
    "print(xyz)\n",
    "#print([i for i in xyz])\n",
    "for i in xyz:\n",
    "    print(i)"
   ]
  },
  {
   "cell_type": "code",
   "execution_count": null,
   "metadata": {},
   "outputs": [],
   "source": [
    "xyz=(((i,ii) for ii in range(50000000000000)) for i in range(500000000000000))\n",
    "print(xyz)\n",
    "#print([i for i in xyz])\n",
    "for i in xyz:\n",
    "    for ii in i:\n",
    "        print(ii)"
   ]
  },
  {
   "cell_type": "code",
   "execution_count": null,
   "metadata": {},
   "outputs": [],
   "source": []
  }
 ],
 "metadata": {
  "kernelspec": {
   "display_name": "Python 3",
   "language": "python",
   "name": "python3"
  },
  "language_info": {
   "codemirror_mode": {
    "name": "ipython",
    "version": 3
   },
   "file_extension": ".py",
   "mimetype": "text/x-python",
   "name": "python",
   "nbconvert_exporter": "python",
   "pygments_lexer": "ipython3",
   "version": "3.7.4"
  }
 },
 "nbformat": 4,
 "nbformat_minor": 2
}
