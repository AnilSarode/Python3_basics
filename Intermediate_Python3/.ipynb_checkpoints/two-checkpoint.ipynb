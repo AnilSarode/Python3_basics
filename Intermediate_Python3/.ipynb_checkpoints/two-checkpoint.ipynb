{
 "cells": [
  {
   "cell_type": "code",
   "execution_count": 3,
   "metadata": {},
   "outputs": [
    {
     "name": "stdout",
     "output_type": "stream",
     "text": [
      "importing Jupyter notebook from one.ipynb\n",
      "top-level in one.py\n",
      "one.py is being imported into another module\n",
      "top-level in two.py\n",
      "func() in one.py\n",
      "two.py is being run directly\n"
     ]
    }
   ],
   "source": [
    "# file two.py\n",
    "import import_ipynb\n",
    "\n",
    "import one\n",
    "\n",
    "print(\"top-level in two.py\")\n",
    "one.func()\n",
    "\n",
    "if __name__ == \"__main__\":\n",
    "    print(\"two.py is being run directly\")\n",
    "else:\n",
    "    print(\"two.py is being imported into another module\")"
   ]
  },
  {
   "cell_type": "code",
   "execution_count": null,
   "metadata": {},
   "outputs": [],
   "source": [
    "    "
   ]
  }
 ],
 "metadata": {
  "kernelspec": {
   "display_name": "Python 3",
   "language": "python",
   "name": "python3"
  },
  "language_info": {
   "codemirror_mode": {
    "name": "ipython",
    "version": 3
   },
   "file_extension": ".py",
   "mimetype": "text/x-python",
   "name": "python",
   "nbconvert_exporter": "python",
   "pygments_lexer": "ipython3",
   "version": "3.7.4"
  }
 },
 "nbformat": 4,
 "nbformat_minor": 2
}
