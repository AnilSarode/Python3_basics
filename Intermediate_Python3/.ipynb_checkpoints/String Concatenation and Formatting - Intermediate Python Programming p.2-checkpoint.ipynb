{
 "cells": [
  {
   "cell_type": "code",
   "execution_count": 9,
   "metadata": {},
   "outputs": [
    {
     "name": "stdout",
     "output_type": "stream",
     "text": [
      "Hello there, Anil\n",
      "Hello there, Sunil\n",
      "Hello there, Ruchika\n",
      "Hello there, Anjali\n",
      "\n",
      "\n",
      "Hello there, Anil\n",
      "Hello there, Sunil\n",
      "Hello there, Ruchika\n",
      "Hello there, Anjali\n"
     ]
    }
   ],
   "source": [
    "names=['Anil','Sunil','Ruchika','Anjali']\n",
    "\n",
    "for name in names:\n",
    "    print('Hello there, '+ name)\n",
    "print('\\n')\n",
    "for name in names:\n",
    "    print(' '.join(['Hello there,',name]))"
   ]
  },
  {
   "cell_type": "code",
   "execution_count": 10,
   "metadata": {},
   "outputs": [
    {
     "name": "stdout",
     "output_type": "stream",
     "text": [
      "Anil, Sunil, Ruchika, Anjali\n"
     ]
    }
   ],
   "source": [
    "print(', '.join(names))"
   ]
  },
  {
   "cell_type": "code",
   "execution_count": 15,
   "metadata": {},
   "outputs": [
    {
     "name": "stdout",
     "output_type": "stream",
     "text": [
      "/home/anil/ML/ML_1/example.txt\n"
     ]
    }
   ],
   "source": [
    "import os \n",
    "\n",
    "location_of_files = '/home/anil/ML/ML_1'\n",
    "file_name='example.txt'\n",
    "\n",
    "print(location_of_files + '/' + file_name)"
   ]
  },
  {
   "cell_type": "code",
   "execution_count": 23,
   "metadata": {},
   "outputs": [],
   "source": [
    "with open (os.path.join(location_of_files,file_name)) as f:\n",
    "    r=f.read()\n"
   ]
  },
  {
   "cell_type": "code",
   "execution_count": 24,
   "metadata": {},
   "outputs": [
    {
     "name": "stdout",
     "output_type": "stream",
     "text": [
      "\n"
     ]
    }
   ],
   "source": [
    "print(r)"
   ]
  },
  {
   "cell_type": "code",
   "execution_count": 3,
   "metadata": {},
   "outputs": [
    {
     "name": "stdout",
     "output_type": "stream",
     "text": [
      "Anil bought 12 apples today!\n",
      "Anil bought 12 apples today!\n"
     ]
    }
   ],
   "source": [
    "who ='Anil'\n",
    "how_many =12\n",
    "\n",
    "# Anil bought 12 apples today!\n",
    "\n",
    "#sentence= \n",
    "\n",
    "print(who,'bought',how_many,'apples today!')\n",
    "print('{} bought {} apples today!'.format(who,how_many))"
   ]
  },
  {
   "cell_type": "code",
   "execution_count": null,
   "metadata": {},
   "outputs": [],
   "source": []
  }
 ],
 "metadata": {
  "kernelspec": {
   "display_name": "Python 3",
   "language": "python",
   "name": "python3"
  },
  "language_info": {
   "codemirror_mode": {
    "name": "ipython",
    "version": 3
   },
   "file_extension": ".py",
   "mimetype": "text/x-python",
   "name": "python",
   "nbconvert_exporter": "python",
   "pygments_lexer": "ipython3",
   "version": "3.7.4"
  }
 },
 "nbformat": 4,
 "nbformat_minor": 2
}
