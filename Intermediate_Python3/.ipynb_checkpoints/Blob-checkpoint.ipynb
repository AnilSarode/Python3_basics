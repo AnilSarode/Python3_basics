{
 "cells": [
  {
   "cell_type": "code",
   "execution_count": 1,
   "metadata": {},
   "outputs": [],
   "source": [
    "import random\n",
    "\n",
    "\n",
    "class Blob:\n",
    "\n",
    "    def __init__(self, color, x_boundary, y_boundary,size_range=(4,8),movement_range=(-1,2)):\n",
    "\n",
    "        self.size = random.randrange(size_range[0],size_range[1])\n",
    "        self.color = color\n",
    "        self.x_boundary = x_boundary\n",
    "        self.y_boundary = y_boundary\n",
    "        self.x = random.randrange(0, self.x_boundary)\n",
    "        self.y = random.randrange(0, self.y_boundary)\n",
    "        self.movement_range=movement_range\n",
    "        \n",
    "    def move(self):\n",
    "        self.move_x = random.randrange(self.movement_range[0],self.movement_range[1])\n",
    "        self.move_y = random.randrange(self.movement_range[0],self.movement_range[1])\n",
    "        self.x += self.move_x\n",
    "        self.y += self.move_y\n",
    "\n",
    "    def check_bounds(self):\n",
    "        if self.x < 0: self.x = 0\n",
    "        elif self.x > self.x_boundary: self.x = self.x_boundary\n",
    "        \n",
    "        if self.y < 0: self.y = 0\n",
    "        elif self.y > self.y_boundary: self.y = self.y_boundary\n",
    "    "
   ]
  },
  {
   "cell_type": "code",
   "execution_count": null,
   "metadata": {},
   "outputs": [],
   "source": []
  }
 ],
 "metadata": {
  "kernelspec": {
   "display_name": "Python 3",
   "language": "python",
   "name": "python3"
  },
  "language_info": {
   "codemirror_mode": {
    "name": "ipython",
    "version": 3
   },
   "file_extension": ".py",
   "mimetype": "text/x-python",
   "name": "python",
   "nbconvert_exporter": "python",
   "pygments_lexer": "ipython3",
   "version": "3.7.4"
  }
 },
 "nbformat": 4,
 "nbformat_minor": 2
}
