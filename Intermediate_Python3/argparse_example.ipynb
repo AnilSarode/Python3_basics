{
 "cells": [
  {
   "cell_type": "code",
   "execution_count": null,
   "metadata": {},
   "outputs": [],
   "source": [
    "import argparse\n",
    "import sys\n",
    "\n",
    "def main():\n",
    "    parser=argparse.ArgumentParser()\n",
    "    parser.add_argument ('--x',type=float,default=1.0,\n",
    "                         help='What is the first number?')\n",
    "    parser.add_argument ('--y',type=float,default=1.0,\n",
    "                         help='What is the Second number?')\n",
    "    parser.add_argument ('--operation',type=str, default='ADD',\n",
    "                         help='What a operation?(add,sub.mul or div)')\n",
    "    args = parser.parse_args()\n",
    "    sys.stdout.write(str(cal(args)))\n",
    "\n",
    "def cal(args):\n",
    "    if args.operation == 'add':\n",
    "        return args.x+args.y\n",
    "    elif args.operation == 'sub':\n",
    "        return args.x-args.y\n",
    "    elif args.operation == 'mul':\n",
    "        return args.x*args.y\n",
    "    elif args.operation == 'div':\n",
    "        return args.x/args.y\n",
    "\n",
    "if __name__ == \"__main__\":\n",
    "    main()"
   ]
  },
  {
   "cell_type": "code",
   "execution_count": 1,
   "metadata": {},
   "outputs": [
    {
     "name": "stderr",
     "output_type": "stream",
     "text": [
      "usage: ipykernel_launcher.py [-h] [--x X] [--y Y] [--operation OPERATION]\n",
      "ipykernel_launcher.py: error: unrecognized arguments: -f /home/anil/.local/share/jupyter/runtime/kernel-8336e0df-9381-405c-adf5-44fc6233f8b1.json\n"
     ]
    },
    {
     "ename": "SystemExit",
     "evalue": "2",
     "output_type": "error",
     "traceback": [
      "An exception has occurred, use %tb to see the full traceback.\n",
      "\u001b[0;31mSystemExit\u001b[0m\u001b[0;31m:\u001b[0m 2\n"
     ]
    },
    {
     "name": "stderr",
     "output_type": "stream",
     "text": [
      "/home/anil/anaconda3/lib/python3.7/site-packages/IPython/core/interactiveshell.py:3339: UserWarning: To exit: use 'exit', 'quit', or Ctrl-D.\n",
      "  warn(\"To exit: use 'exit', 'quit', or Ctrl-D.\", stacklevel=1)\n"
     ]
    }
   ],
   "source": [
    "import argparse\n",
    "import sys\n",
    "\n",
    "def main():\n",
    "    parser = argparse.ArgumentParser()\n",
    "    parser.add_argument('--x', type=float, default=1.0,\n",
    "                        help='What is the first number?')\n",
    "    parser.add_argument('--y', type=float, default=1.0,\n",
    "                        help='What is the second number?')\n",
    "    parser.add_argument('--operation', type=str, default='add',\n",
    "                        help='What operation? Can choose add, sub, mul, or div')\n",
    "    args = parser.parse_args()\n",
    "    sys.stdout.write(str(calc(args)))\n",
    "    \n",
    "def calc(args):\n",
    "    if args.operation == 'add':\n",
    "        return args.x + args.y\n",
    "    elif args.operation == 'sub':\n",
    "        return args.x - args.y\n",
    "    elif args.operation == 'mul':\n",
    "        return args.x * args.y\n",
    "    elif args.operation == 'div':\n",
    "        return args.x / args.y\n",
    "\n",
    "if __name__ == '__main__':\n",
    "    main()"
   ]
  },
  {
   "cell_type": "code",
   "execution_count": 2,
   "metadata": {},
   "outputs": [
    {
     "name": "stdout",
     "output_type": "stream",
     "text": [
      "99\n"
     ]
    }
   ],
   "source": [
    "print(99)"
   ]
  },
  {
   "cell_type": "code",
   "execution_count": 3,
   "metadata": {},
   "outputs": [
    {
     "name": "stdout",
     "output_type": "stream",
     "text": [
      "99\n"
     ]
    }
   ],
   "source": [
    "import sys\n",
    "sys.stdout.write(str(99) + '\\n')"
   ]
  },
  {
   "cell_type": "code",
   "execution_count": null,
   "metadata": {},
   "outputs": [],
   "source": []
  }
 ],
 "metadata": {
  "kernelspec": {
   "display_name": "Python 3",
   "language": "python",
   "name": "python3"
  },
  "language_info": {
   "codemirror_mode": {
    "name": "ipython",
    "version": 3
   },
   "file_extension": ".py",
   "mimetype": "text/x-python",
   "name": "python",
   "nbconvert_exporter": "python",
   "pygments_lexer": "ipython3",
   "version": "3.7.4"
  }
 },
 "nbformat": 4,
 "nbformat_minor": 2
}
