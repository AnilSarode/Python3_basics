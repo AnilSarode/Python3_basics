{
 "cells": [
  {
   "cell_type": "code",
   "execution_count": 1,
   "metadata": {},
   "outputs": [
    {
     "name": "stdout",
     "output_type": "stream",
     "text": [
      "<class 'int'>\n",
      "<class 'float'>\n",
      "(8+3j)\n",
      "True\n"
     ]
    }
   ],
   "source": [
    "a = 5\n",
    "\n",
    "print(type(a))\n",
    "\n",
    "print(type(5.0))\n",
    "\n",
    "c = 5 + 3j\n",
    "print(c + 3)\n",
    "\n",
    "print(isinstance(c, complex))"
   ]
  },
  {
   "cell_type": "code",
   "execution_count": 2,
   "metadata": {},
   "outputs": [
    {
     "name": "stdout",
     "output_type": "stream",
     "text": [
      "107\n"
     ]
    }
   ],
   "source": [
    "print(0b1101011)\n"
   ]
  },
  {
   "cell_type": "code",
   "execution_count": 3,
   "metadata": {},
   "outputs": [
    {
     "name": "stdout",
     "output_type": "stream",
     "text": [
      "253\n"
     ]
    }
   ],
   "source": [
    "print(0xFB + 0b10)"
   ]
  },
  {
   "cell_type": "code",
   "execution_count": 1,
   "metadata": {},
   "outputs": [
    {
     "name": "stdout",
     "output_type": "stream",
     "text": [
      "2\n"
     ]
    }
   ],
   "source": [
    "print(0b10)"
   ]
  },
  {
   "cell_type": "code",
   "execution_count": 2,
   "metadata": {},
   "outputs": [
    {
     "name": "stdout",
     "output_type": "stream",
     "text": [
      "13\n"
     ]
    }
   ],
   "source": [
    "print(0o15)"
   ]
  },
  {
   "cell_type": "code",
   "execution_count": 3,
   "metadata": {},
   "outputs": [
    {
     "data": {
      "text/plain": [
       "3.0"
      ]
     },
     "execution_count": 3,
     "metadata": {},
     "output_type": "execute_result"
    }
   ],
   "source": [
    " 1 + 2.0\n",
    "3.0"
   ]
  },
  {
   "cell_type": "code",
   "execution_count": 4,
   "metadata": {},
   "outputs": [
    {
     "data": {
      "text/plain": [
       "2"
      ]
     },
     "execution_count": 4,
     "metadata": {},
     "output_type": "execute_result"
    }
   ],
   "source": [
    "int(2.3)"
   ]
  },
  {
   "cell_type": "code",
   "execution_count": 5,
   "metadata": {},
   "outputs": [
    {
     "data": {
      "text/plain": [
       "(3+0j)"
      ]
     },
     "execution_count": 5,
     "metadata": {},
     "output_type": "execute_result"
    }
   ],
   "source": [
    "complex(3)"
   ]
  },
  {
   "cell_type": "code",
   "execution_count": 6,
   "metadata": {},
   "outputs": [
    {
     "data": {
      "text/plain": [
       "False"
      ]
     },
     "execution_count": 6,
     "metadata": {},
     "output_type": "execute_result"
    }
   ],
   "source": [
    "(1.1 + 2.2) == 3.3\n"
   ]
  },
  {
   "cell_type": "code",
   "execution_count": 10,
   "metadata": {},
   "outputs": [
    {
     "data": {
      "text/plain": [
       "False"
      ]
     },
     "execution_count": 10,
     "metadata": {},
     "output_type": "execute_result"
    }
   ],
   "source": [
    "import decimal\n",
    "(decimal.Decimal(1.1) + decimal.Decimal(2.2)) == decimal.Decimal(3.3)"
   ]
  },
  {
   "cell_type": "code",
   "execution_count": 12,
   "metadata": {},
   "outputs": [
    {
     "name": "stdout",
     "output_type": "stream",
     "text": [
      "3.3\n"
     ]
    }
   ],
   "source": [
    "from decimal import Decimal as D\n",
    "print(D('1.1') + D('2.2'))"
   ]
  },
  {
   "cell_type": "code",
   "execution_count": 13,
   "metadata": {},
   "outputs": [
    {
     "name": "stdout",
     "output_type": "stream",
     "text": [
      "3/2\n",
      "5\n",
      "1/3\n"
     ]
    }
   ],
   "source": [
    "import fractions\n",
    "\n",
    "print(fractions.Fraction(1.5))\n",
    "\n",
    "print(fractions.Fraction(5))\n",
    "\n",
    "print(fractions.Fraction(1,3))"
   ]
  },
  {
   "cell_type": "code",
   "execution_count": 15,
   "metadata": {},
   "outputs": [
    {
     "name": "stdout",
     "output_type": "stream",
     "text": [
      "12\n",
      "b\n",
      "['c', 'b', 'e', 'd', 'a']\n",
      "0.7332003523693517\n"
     ]
    }
   ],
   "source": [
    "import random\n",
    "\n",
    "print(random.randrange(10, 20))\n",
    "\n",
    "x = ['a', 'b', 'c', 'd', 'e']\n",
    "\n",
    "# Get random choice\n",
    "print(random.choice(x))\n",
    "\n",
    "# Shuffle x\n",
    "random.shuffle(x)\n",
    "\n",
    "# Print the shuffled x\n",
    "print(x)\n",
    "\n",
    "# Print random element\n",
    "print(random.random())"
   ]
  },
  {
   "cell_type": "code",
   "execution_count": 16,
   "metadata": {},
   "outputs": [
    {
     "name": "stdout",
     "output_type": "stream",
     "text": [
      "A random number from list is : 10\n",
      "A random number from range is : 38\n"
     ]
    }
   ],
   "source": [
    "# Python code to demonstrate the working of \n",
    "# choice() and randrange() \n",
    "\n",
    "# importing \"random\" for random operations \n",
    "import random \n",
    "\n",
    "# using choice() to generate a random number from a \n",
    "# given list of numbers. \n",
    "print (\"A random number from list is : \",end=\"\") \n",
    "print (random.choice([1, 4, 8, 10, 3])) \n",
    "\n",
    "# using randrange() to generate in range from 20 \n",
    "# to 50. The last parameter 3 is step size to skip \n",
    "# three numbers when selecting. \n",
    "print (\"A random number from range is : \",end=\"\") \n",
    "print (random.randrange(20, 50, 3)) \n"
   ]
  },
  {
   "cell_type": "code",
   "execution_count": 17,
   "metadata": {},
   "outputs": [
    {
     "name": "stdout",
     "output_type": "stream",
     "text": [
      "A random number between 0 and 1 is : 0.8613579584831976\n",
      "The mapped random number with 5 is : 0.6229016948897019\n",
      "The mapped random number with 7 is : 0.32383276483316237\n",
      "The mapped random number with 5 is : 0.6229016948897019\n",
      "The mapped random number with 7 is : 0.32383276483316237\n"
     ]
    }
   ],
   "source": [
    "# Python code to demonstrate the working of \n",
    "# random() and seed() \n",
    "\n",
    "# importing \"random\" for random operations \n",
    "import random \n",
    "\n",
    "# using random() to generate a random number \n",
    "# between 0 and 1 \n",
    "print (\"A random number between 0 and 1 is : \", end=\"\") \n",
    "print (random.random()) \n",
    "\n",
    "# using seed() to seed a random number \n",
    "random.seed(5) \n",
    "\n",
    "# printing mapped random number \n",
    "print (\"The mapped random number with 5 is : \", end=\"\") \n",
    "print (random.random()) \n",
    "\n",
    "# using seed() to seed different random number \n",
    "random.seed(7) \n",
    "\n",
    "# printing mapped random number \n",
    "print (\"The mapped random number with 7 is : \", end=\"\") \n",
    "print (random.random()) \n",
    "\n",
    "# using seed() to seed to 5 again \n",
    "random.seed(5) \n",
    "\n",
    "# printing mapped random number \n",
    "print (\"The mapped random number with 5 is : \",end=\"\") \n",
    "print (random.random()) \n",
    "\n",
    "# using seed() to seed to 7 again \n",
    "random.seed(7) \n",
    "\n",
    "# printing mapped random number \n",
    "print (\"The mapped random number with 7 is : \",end=\"\") \n",
    "print (random.random()) \n"
   ]
  },
  {
   "cell_type": "code",
   "execution_count": 18,
   "metadata": {},
   "outputs": [
    {
     "name": "stdout",
     "output_type": "stream",
     "text": [
      "The list before shuffling is : 1 4 5 10 2 \r\n",
      "The list after shuffling is : 2 1 5 10 4 \r\n",
      "The random floating point number between 5 and 10 is : 5.362181433337714\n"
     ]
    }
   ],
   "source": [
    "# Python code to demonstrate the working of \n",
    "# shuffle() and uniform() \n",
    "\n",
    "# importing \"random\" for random operations \n",
    "import random \n",
    "\n",
    "# Initializing list \n",
    "li = [1, 4, 5, 10, 2] \n",
    "\n",
    "# Printing list before shuffling \n",
    "print (\"The list before shuffling is : \", end=\"\") \n",
    "for i in range(0, len(li)): \n",
    "\tprint (li[i], end=\" \") \n",
    "print(\"\\r\") \n",
    "\n",
    "# using shuffle() to shuffle the list \n",
    "random.shuffle(li) \n",
    "\n",
    "# Printing list after shuffling \n",
    "print (\"The list after shuffling is : \", end=\"\") \n",
    "for i in range(0, len(li)): \n",
    "\tprint (li[i], end=\" \") \n",
    "print(\"\\r\") \n",
    "\n",
    "# using uniform() to generate random floating number in range \n",
    "# prints number between 5 and 10 \n",
    "print (\"The random floating point number between 5 and 10 is : \",end=\"\") \n",
    "print (random.uniform(5,10)) \n"
   ]
  },
  {
   "cell_type": "code",
   "execution_count": null,
   "metadata": {},
   "outputs": [],
   "source": []
  },
  {
   "cell_type": "code",
   "execution_count": null,
   "metadata": {},
   "outputs": [],
   "source": []
  }
 ],
 "metadata": {
  "kernelspec": {
   "display_name": "Python 3",
   "language": "python",
   "name": "python3"
  },
  "language_info": {
   "codemirror_mode": {
    "name": "ipython",
    "version": 3
   },
   "file_extension": ".py",
   "mimetype": "text/x-python",
   "name": "python",
   "nbconvert_exporter": "python",
   "pygments_lexer": "ipython3",
   "version": "3.7.4"
  }
 },
 "nbformat": 4,
 "nbformat_minor": 2
}
