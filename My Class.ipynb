{
 "cells": [
  {
   "cell_type": "code",
   "execution_count": 5,
   "metadata": {},
   "outputs": [
    {
     "name": "stdout",
     "output_type": "stream",
     "text": [
      "9820536053 ANIL SARODE\n",
      "anil's ID is 15 school name is IIT DELHI\n",
      "15\n",
      "15\n"
     ]
    }
   ],
   "source": [
    "class Anil:\n",
    "    ID=0\n",
    "    Name=''\n",
    "    School=' '\n",
    "    Number=0\n",
    "    def display(self,ID,b):\n",
    "        print(\"anil's ID is {} school name is {}\".format(ID,b))\n",
    "        print(self.ID)\n",
    "        ID=ID\n",
    "        print(ID)\n",
    "        \n",
    "a= Anil()\n",
    "\n",
    "a.ID=15\n",
    "a.Name='ANIL SARODE'\n",
    "a.Number=9820536053\n",
    "a.school=\"IIT DELHI\"\n",
    "\n",
    "print(a.Number,a.Name )\n",
    "\n",
    "a.display(a.ID,a.school)\n",
    "\n"
   ]
  },
  {
   "cell_type": "code",
   "execution_count": null,
   "metadata": {},
   "outputs": [],
   "source": []
  }
 ],
 "metadata": {
  "kernelspec": {
   "display_name": "Python 3",
   "language": "python",
   "name": "python3"
  },
  "language_info": {
   "codemirror_mode": {
    "name": "ipython",
    "version": 3
   },
   "file_extension": ".py",
   "mimetype": "text/x-python",
   "name": "python",
   "nbconvert_exporter": "python",
   "pygments_lexer": "ipython3",
   "version": "3.7.4"
  }
 },
 "nbformat": 4,
 "nbformat_minor": 2
}
